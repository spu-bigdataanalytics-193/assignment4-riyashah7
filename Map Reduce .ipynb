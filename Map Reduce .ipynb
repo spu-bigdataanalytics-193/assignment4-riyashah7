{
  "nbformat": 4,
  "nbformat_minor": 0,
  "metadata": {
    "colab": {
      "name": "Untitled2.ipynb",
      "provenance": []
    },
    "kernelspec": {
      "name": "python3",
      "display_name": "Python 3"
    }
  },
  "cells": [
    {
      "cell_type": "code",
      "metadata": {
        "id": "HFtvxvewxGNo",
        "colab_type": "code",
        "colab": {}
      },
      "source": [
        "#install java libs and spark\n",
        "!apt-get install openjdk-8-jdk-headless -qq > /dev/null\n",
        "!wget -q https://www-us.apache.org/dist/spark/spark-2.4.4/spark-2.4.4-bin-hadoop2.7.tgz\n",
        "!tar xf spark-2.4.4-bin-hadoop2.7.tgz\n",
        "!pip install -q findspark\n",
        "import os\n",
        "os.environ[\"JAVA_HOME\"] = \"/usr/lib/jvm/java-8-openjdk-amd64\"\n",
        "os.environ[\"SPARK_HOME\"] = \"/content/spark-2.4.4-bin-hadoop2.7\""
      ],
      "execution_count": 0,
      "outputs": []
    },
    {
      "cell_type": "markdown",
      "metadata": {
        "id": "vve2mBIZ8z4s",
        "colab_type": "text"
      },
      "source": [
        "\n",
        "# Install Pyspark"
      ]
    },
    {
      "cell_type": "markdown",
      "metadata": {
        "id": "0pAjFsHI8xvQ",
        "colab_type": "text"
      },
      "source": [
        ""
      ]
    },
    {
      "cell_type": "code",
      "metadata": {
        "id": "GWvrgRgCxG4Z",
        "colab_type": "code",
        "colab": {}
      },
      "source": [
        "import findspark\n",
        "findspark.init()"
      ],
      "execution_count": 0,
      "outputs": []
    },
    {
      "cell_type": "code",
      "metadata": {
        "id": "vwtKSZxLxPcG",
        "colab_type": "code",
        "colab": {}
      },
      "source": [
        "from pyspark.sql import SparkSession\n",
        "spark = SparkSession.builder \\\n",
        "    .master(\"local[*]\") \\\n",
        "    .appName(\"Learning_Spark\") \\\n",
        "    .getOrCreate()"
      ],
      "execution_count": 0,
      "outputs": []
    },
    {
      "cell_type": "code",
      "metadata": {
        "id": "n16ZwHisxW3r",
        "colab_type": "code",
        "colab": {}
      },
      "source": [
        ""
      ],
      "execution_count": 0,
      "outputs": []
    },
    {
      "cell_type": "markdown",
      "metadata": {
        "id": "asDpJgX-8oC6",
        "colab_type": "text"
      },
      "source": [
        "#Mount Google **Drive**"
      ]
    },
    {
      "cell_type": "code",
      "metadata": {
        "id": "ysgdE-D4xtIu",
        "colab_type": "code",
        "colab": {
          "base_uri": "https://localhost:8080/",
          "height": 121
        },
        "outputId": "2362b7b7-2cb0-4d6f-e0e1-5de0feff0f7a"
      },
      "source": [
        "from google.colab import drive\n",
        "drive.mount('/content/drive')"
      ],
      "execution_count": 4,
      "outputs": [
        {
          "output_type": "stream",
          "text": [
            "Go to this URL in a browser: https://accounts.google.com/o/oauth2/auth?client_id=947318989803-6bn6qk8qdgf4n4g3pfee6491hc0brc4i.apps.googleusercontent.com&redirect_uri=urn%3aietf%3awg%3aoauth%3a2.0%3aoob&response_type=code&scope=email%20https%3a%2f%2fwww.googleapis.com%2fauth%2fdocs.test%20https%3a%2f%2fwww.googleapis.com%2fauth%2fdrive%20https%3a%2f%2fwww.googleapis.com%2fauth%2fdrive.photos.readonly%20https%3a%2f%2fwww.googleapis.com%2fauth%2fpeopleapi.readonly\n",
            "\n",
            "Enter your authorization code:\n",
            "··········\n",
            "Mounted at /content/drive\n"
          ],
          "name": "stdout"
        }
      ]
    },
    {
      "cell_type": "code",
      "metadata": {
        "id": "O8G-ssj6zatJ",
        "colab_type": "code",
        "colab": {}
      },
      "source": [
        "spark = SparkSession.builder.appName(\"Learning_Spark\").master(\"local[*]\").getOrCreate()"
      ],
      "execution_count": 0,
      "outputs": []
    },
    {
      "cell_type": "code",
      "metadata": {
        "id": "c4pdYyLW1YPb",
        "colab_type": "code",
        "colab": {
          "base_uri": "https://localhost:8080/",
          "height": 54
        },
        "outputId": "bae1b408-e30a-48c6-9b71-8f6dfb6a9294"
      },
      "source": [
        "sc = spark.sparkContext\n",
        "rdd = sc.textFile('/content/drive/My Drive/data/*.csv.bz2')\n",
        "rdd.take(1)"
      ],
      "execution_count": 15,
      "outputs": [
        {
          "output_type": "execute_result",
          "data": {
            "text/plain": [
              "['Year,Month,DayofMonth,DayOfWeek,DepTime,CRSDepTime,ArrTime,CRSArrTime,UniqueCarrier,FlightNum,TailNum,ActualElapsedTime,CRSElapsedTime,AirTime,ArrDelay,DepDelay,Origin,Dest,Distance,TaxiIn,TaxiOut,Cancelled,CancellationCode,Diverted,CarrierDelay,WeatherDelay,NASDelay,SecurityDelay,LateAircraftDelay']"
            ]
          },
          "metadata": {
            "tags": []
          },
          "execution_count": 15
        }
      ]
    },
    {
      "cell_type": "markdown",
      "metadata": {
        "id": "6FYesjGq9NWT",
        "colab_type": "text"
      },
      "source": [
        "#Mapping,Shuffle and reducing\n"
      ]
    },
    {
      "cell_type": "code",
      "metadata": {
        "id": "UHO8vYvR5UW2",
        "colab_type": "code",
        "colab": {}
      },
      "source": [
        "rdd1 = rdd.map(lambda x: x.split(',')[8]).filter(lambda x : 'UniqueCarrier' not in x)"
      ],
      "execution_count": 0,
      "outputs": []
    },
    {
      "cell_type": "code",
      "metadata": {
        "id": "9gNNsyHB4zUB",
        "colab_type": "code",
        "colab": {}
      },
      "source": [
        "rdd2 = rdd1.map(lambda x:(x,1))"
      ],
      "execution_count": 0,
      "outputs": []
    },
    {
      "cell_type": "code",
      "metadata": {
        "id": "uaz343Ko6CWS",
        "colab_type": "code",
        "colab": {}
      },
      "source": [
        "rdd3 = rdd2.reduceByKey(lambda x,y: x+y)"
      ],
      "execution_count": 0,
      "outputs": []
    },
    {
      "cell_type": "code",
      "metadata": {
        "id": "WyTQwayL6j-o",
        "colab_type": "code",
        "colab": {
          "base_uri": "https://localhost:8080/",
          "height": 504
        },
        "outputId": "ae59df5e-cda7-4193-8b0a-5b65891b088c"
      },
      "source": [
        "rdd3.take(30)"
      ],
      "execution_count": 31,
      "outputs": [
        {
          "output_type": "execute_result",
          "data": {
            "text/plain": [
              "[('MQ', 3954895),\n",
              " ('PI', 873957),\n",
              " ('XE', 2350309),\n",
              " ('AQ', 154381),\n",
              " ('AA', 14984647),\n",
              " ('PS', 83617),\n",
              " ('AS', 2878021),\n",
              " ('DL', 16547870),\n",
              " ('UA', 13299817),\n",
              " ('FL', 1265138),\n",
              " ('NW', 10292627),\n",
              " ('DH', 693047),\n",
              " ('EA', 919785),\n",
              " ('HA', 274265),\n",
              " ('F9', 336958),\n",
              " ('WN', 15976022),\n",
              " ('PA (1)', 316167),\n",
              " ('US', 14075530),\n",
              " ('HP', 3636682),\n",
              " ('CO', 8145788),\n",
              " ('OO', 3090853),\n",
              " ('TZ', 208420),\n",
              " ('B6', 811341),\n",
              " ('OH', 1464176),\n",
              " ('ML (1)', 70622),\n",
              " ('TW', 3757747),\n",
              " ('EV', 1697172),\n",
              " ('YV', 854056),\n",
              " ('9E', 521059)]"
            ]
          },
          "metadata": {
            "tags": []
          },
          "execution_count": 31
        }
      ]
    },
    {
      "cell_type": "code",
      "metadata": {
        "id": "5d0lesng6or_",
        "colab_type": "code",
        "colab": {}
      },
      "source": [
        ""
      ],
      "execution_count": 0,
      "outputs": []
    }
  ]
}
